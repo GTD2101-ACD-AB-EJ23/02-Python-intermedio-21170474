{
  "cells": [
    {
      "cell_type": "markdown",
      "metadata": {
        "id": "view-in-github",
        "colab_type": "text"
      },
      "source": [
        "<a href=\"https://colab.research.google.com/github/GTD2101-ACD-AB-EJ23/02-Python-intermedio-21170474/blob/main/05.%20Loops.ipynb\" target=\"_parent\"><img src=\"https://colab.research.google.com/assets/colab-badge.svg\" alt=\"Open In Colab\"/></a>"
      ]
    },
    {
      "cell_type": "markdown",
      "metadata": {
        "id": "dgELLGPL5apd"
      },
      "source": [
        "# Loops y List Comprehensions\n",
        "\n",
        "En este JNB se revisará el tema de Lists y List Comprehensions"
      ]
    },
    {
      "cell_type": "code",
      "execution_count": null,
      "metadata": {
        "id": "O8NoTzxjs2wK",
        "outputId": "fa4bc249-a4fa-48a6-9dc6-7733646ed223"
      },
      "outputs": [
        {
          "name": "stdout",
          "output_type": "stream",
          "text": [
            "Hello World!\n"
          ]
        }
      ],
      "source": [
        "print(\"Hello World!\")"
      ]
    },
    {
      "cell_type": "markdown",
      "source": [
        "### Ciclo for\n"
      ],
      "metadata": {
        "id": "zpJkiWLg5n1D"
      }
    },
    {
      "cell_type": "markdown",
      "source": [
        "Factorial"
      ],
      "metadata": {
        "id": "zPzZ_3qc5rQC"
      }
    },
    {
      "cell_type": "code",
      "source": [
        "nums = list(range(1,10))\n",
        "print(nums)"
      ],
      "metadata": {
        "id": "xSkdXS086FkC",
        "outputId": "6dfe6ba6-9977-45cd-90f0-4d59579b9724",
        "colab": {
          "base_uri": "https://localhost:8080/"
        }
      },
      "execution_count": 3,
      "outputs": [
        {
          "output_type": "stream",
          "name": "stdout",
          "text": [
            "[1, 2, 3, 4, 5, 6, 7, 8, 9]\n"
          ]
        }
      ]
    },
    {
      "cell_type": "code",
      "source": [
        "def factorial(numero):\n",
        "  producto=1\n",
        "  for n in range(1,numero+1):\n",
        "    producto = producto * n\n",
        "  return producto\n",
        "print(factorial(5))"
      ],
      "metadata": {
        "id": "0BnHJK1b5qxZ",
        "outputId": "58fceb73-2252-459d-a68f-49f86be5dad1",
        "colab": {
          "base_uri": "https://localhost:8080/"
        }
      },
      "execution_count": 4,
      "outputs": [
        {
          "output_type": "stream",
          "name": "stdout",
          "text": [
            "120\n"
          ]
        }
      ]
    },
    {
      "cell_type": "markdown",
      "source": [
        "###Listas por comprensión.\n",
        "\n",
        "Generar los números pares del 1 al 100."
      ],
      "metadata": {
        "id": "JM1trjDM8dIJ"
      }
    },
    {
      "cell_type": "code",
      "source": [
        "pares_100 = [n*2 for n in range(1,51)]\n",
        "print(pares_100)"
      ],
      "metadata": {
        "id": "qNOYWwoA8oVC",
        "outputId": "dc0bd672-ba5a-440f-a845-6dbf6d4a4ad8",
        "colab": {
          "base_uri": "https://localhost:8080/"
        }
      },
      "execution_count": 5,
      "outputs": [
        {
          "output_type": "stream",
          "name": "stdout",
          "text": [
            "[2, 4, 6, 8, 10, 12, 14, 16, 18, 20, 22, 24, 26, 28, 30, 32, 34, 36, 38, 40, 42, 44, 46, 48, 50, 52, 54, 56, 58, 60, 62, 64, 66, 68, 70, 72, 74, 76, 78, 80, 82, 84, 86, 88, 90, 92, 94, 96, 98, 100]\n"
          ]
        }
      ]
    },
    {
      "cell_type": "markdown",
      "source": [
        "Generar los números impares del 1 al 100"
      ],
      "metadata": {
        "id": "kofVKXX59bBp"
      }
    },
    {
      "cell_type": "code",
      "source": [
        "impares_100 = [n for n in range(1,101) if n %2 ==1]\n",
        "print(impares_100)"
      ],
      "metadata": {
        "id": "vqbl1TnB9dXZ",
        "outputId": "c5be6f0d-5949-4bcd-8097-cb4f7841e6ef",
        "colab": {
          "base_uri": "https://localhost:8080/"
        }
      },
      "execution_count": 6,
      "outputs": [
        {
          "output_type": "stream",
          "name": "stdout",
          "text": [
            "[1, 3, 5, 7, 9, 11, 13, 15, 17, 19, 21, 23, 25, 27, 29, 31, 33, 35, 37, 39, 41, 43, 45, 47, 49, 51, 53, 55, 57, 59, 61, 63, 65, 67, 69, 71, 73, 75, 77, 79, 81, 83, 85, 87, 89, 91, 93, 95, 97, 99]\n"
          ]
        }
      ]
    }
  ],
  "metadata": {
    "colab": {
      "provenance": [],
      "include_colab_link": true
    },
    "kernelspec": {
      "display_name": "Python 3.10.7 64-bit",
      "language": "python",
      "name": "python3"
    },
    "language_info": {
      "codemirror_mode": {
        "name": "ipython",
        "version": 3
      },
      "file_extension": ".py",
      "mimetype": "text/x-python",
      "name": "python",
      "nbconvert_exporter": "python",
      "pygments_lexer": "ipython3",
      "version": "3.10.7"
    },
    "orig_nbformat": 4,
    "vscode": {
      "interpreter": {
        "hash": "eb4a0ac80907d7f44e1a5e88d3d3381b33e3dbedd3a24d113e876f30a0c46bee"
      }
    }
  },
  "nbformat": 4,
  "nbformat_minor": 0
}